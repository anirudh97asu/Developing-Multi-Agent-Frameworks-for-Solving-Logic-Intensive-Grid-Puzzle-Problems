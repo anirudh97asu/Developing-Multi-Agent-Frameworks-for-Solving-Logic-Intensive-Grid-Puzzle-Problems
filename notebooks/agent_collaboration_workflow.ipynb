{
 "cells": [
  {
   "cell_type": "code",
   "execution_count": 1,
   "metadata": {},
   "outputs": [
    {
     "name": "stderr",
     "output_type": "stream",
     "text": [
      "INFO:__run_agentic_framework__:Starting agentic Framework\n",
      "INFO:__run_agentic_framework__:\n",
      "        ╔═══════╗\n",
      "        ║ ◣_◢ ║\n",
      "        ║ {○_○} ║\n",
      "    ╔═══╩═══════╩═══╗\n",
      "    ║  [│_█_█_█_│]  ║\n",
      "    ╚═══╦═══════╦═══╝\n",
      "        ║  ═══  ║\n",
      "        ║   │   ║\n",
      "        ╚═══╦═══╝\n",
      "            ║\n",
      "         ═══╩═══        \n",
      "    \n"
     ]
    }
   ],
   "source": [
    "import pandas as pd\n",
    "import pickle\n",
    "import numpy as np\n",
    "import os\n",
    "import sys\n",
    "\n",
    "sys.path.append(os.path.dirname(os.getcwd()))\n",
    "from src.llm_engine.gemini_agent import Agent\n",
    "from src.run_agentic_framework import run_multi_agent_system\n"
   ]
  },
  {
   "cell_type": "code",
   "execution_count": 5,
   "metadata": {},
   "outputs": [],
   "source": [
    "system_prompt=\"\"\"\"You are a logic grid puzzle solving assistant that produces clear deductive steps. When solving puzzles:\\n\\n1. Skip repeating the original clues - assume they're already understood.\\n\\n2. Start immediately with meaningful deductions derived from combining and analyzing clues.\\n\\n3. For each numbered deduction step:\\n   - Present only the NEW inference or conclusion reached\\n   - Briefly explain which constraints led to this conclusion\\n   - Show any concrete mappings or assignments that result (X = Y, A cannot be B, etc.)\\n\\n4. Include specific variable assignments and eliminations in your steps (e.g., \\\"Wine A must be from 1988\\\" or \\\"Person B cannot have the red car\\\").\\n\\n5. Focus on recording the mapping progression - which variables have been definitively assigned and which possibilities have been eliminated.\\n\\n6. Document crucial decision points and branching logic when necessary.\\n\\n7. Each step must contribute new information toward the solution without repeating previous deductions.\\n\\n8. When appropriate, summarize the current state of the solution grid after significant deductions.\\n\\nYour output should read like the step-by-step solution path in a puzzle solver's notebook, and do not return any solution directly\"\"\"\n"
   ]
  },
  {
   "cell_type": "code",
   "execution_count": 6,
   "metadata": {},
   "outputs": [
    {
     "data": {
      "text/html": [
       "<div>\n",
       "<style scoped>\n",
       "    .dataframe tbody tr th:only-of-type {\n",
       "        vertical-align: middle;\n",
       "    }\n",
       "\n",
       "    .dataframe tbody tr th {\n",
       "        vertical-align: top;\n",
       "    }\n",
       "\n",
       "    .dataframe thead th {\n",
       "        text-align: right;\n",
       "    }\n",
       "</style>\n",
       "<table border=\"1\" class=\"dataframe\">\n",
       "  <thead>\n",
       "    <tr style=\"text-align: right;\">\n",
       "      <th></th>\n",
       "      <th>key</th>\n",
       "      <th>id</th>\n",
       "      <th>question</th>\n",
       "      <th>answer</th>\n",
       "      <th>Mistral-7b</th>\n",
       "      <th>Llama-13b</th>\n",
       "      <th>gemini-pro</th>\n",
       "      <th>gpt-4-turbo</th>\n",
       "      <th>Claude-3</th>\n",
       "      <th>actual_question</th>\n",
       "      <th>Clues</th>\n",
       "      <th>categories</th>\n",
       "      <th>number_of_clues</th>\n",
       "      <th>number_categories</th>\n",
       "      <th>category_names</th>\n",
       "    </tr>\n",
       "  </thead>\n",
       "  <tbody>\n",
       "    <tr>\n",
       "      <th>0</th>\n",
       "      <td>341.json</td>\n",
       "      <td>802</td>\n",
       "      <td>Nicholas and Edith are having a small dinner p...</td>\n",
       "      <td>1984 | Annata Branco | gewurztraminer\\n1988 | ...</td>\n",
       "      <td>| 1984 | Annata Branco | gewurztraminer |\\n |-...</td>\n",
       "      <td>Let's solve the puzzle step by step.\\n \\n Step...</td>\n",
       "      <td>Step-by-step solution:\\n 1. From clue 6, we kn...</td>\n",
       "      <td>Step-by-step solution:\\n \\n 1. From clue 6, we...</td>\n",
       "      <td>Step-by-step solution:\\n \\n 1. From clue 6, we...</td>\n",
       "      <td>Nicholas and Edith are having a small dinner p...</td>\n",
       "      <td>Clues:\\n1. The Ece Suss was bottled sometime a...</td>\n",
       "      <td>vintages : 1984, 1988, 1992, 1996.\\nwines : An...</td>\n",
       "      <td>6</td>\n",
       "      <td>3</td>\n",
       "      <td>vintages wines types</td>\n",
       "    </tr>\n",
       "  </tbody>\n",
       "</table>\n",
       "</div>"
      ],
      "text/plain": [
       "        key   id                                           question  \\\n",
       "0  341.json  802  Nicholas and Edith are having a small dinner p...   \n",
       "\n",
       "                                              answer  \\\n",
       "0  1984 | Annata Branco | gewurztraminer\\n1988 | ...   \n",
       "\n",
       "                                          Mistral-7b  \\\n",
       "0  | 1984 | Annata Branco | gewurztraminer |\\n |-...   \n",
       "\n",
       "                                           Llama-13b  \\\n",
       "0  Let's solve the puzzle step by step.\\n \\n Step...   \n",
       "\n",
       "                                          gemini-pro  \\\n",
       "0  Step-by-step solution:\\n 1. From clue 6, we kn...   \n",
       "\n",
       "                                         gpt-4-turbo  \\\n",
       "0  Step-by-step solution:\\n \\n 1. From clue 6, we...   \n",
       "\n",
       "                                            Claude-3  \\\n",
       "0  Step-by-step solution:\\n \\n 1. From clue 6, we...   \n",
       "\n",
       "                                     actual_question  \\\n",
       "0  Nicholas and Edith are having a small dinner p...   \n",
       "\n",
       "                                               Clues  \\\n",
       "0  Clues:\\n1. The Ece Suss was bottled sometime a...   \n",
       "\n",
       "                                          categories  number_of_clues  \\\n",
       "0  vintages : 1984, 1988, 1992, 1996.\\nwines : An...                6   \n",
       "\n",
       "   number_categories        category_names  \n",
       "0                  3  vintages wines types  "
      ]
     },
     "execution_count": 6,
     "metadata": {},
     "output_type": "execute_result"
    }
   ],
   "source": [
    "df = pd.read_csv(r\"../data/GridPuzzle_processed.csv\")\n",
    "\n",
    "df.head(1)"
   ]
  },
  {
   "cell_type": "code",
   "execution_count": 3,
   "metadata": {},
   "outputs": [
    {
     "name": "stdout",
     "output_type": "stream",
     "text": [
      "('Nicholas and Edith are having a small dinner party this evening at their '\n",
      " \"home in Cedar Valley, and they've decided to open a select number of rare \"\n",
      " 'wines from their personal collection to celebrate the occasion. Using only '\n",
      " 'the clues below, match the vintages to the options from wines and types. '\n",
      " 'Remember, as with all grid-based logic puzzles, no option in any category '\n",
      " 'will ever be used more than once.\\n'\n",
      " '\\n'\n",
      " 'vintages : 1984, 1988, 1992, 1996.\\n'\n",
      " 'wines : Annata Branco, Bianca Flaux, Ece Suss, Vendemmia.\\n'\n",
      " 'types : gewurztraminer, merlot, pinot noir, riesling.\\n'\n",
      " '\\n'\n",
      " 'Clues:\\n'\n",
      " '1. The Ece Suss was bottled sometime after the Annata Branco.\\n'\n",
      " '2. The Bianca Flaux was bottled 4 years before the Vendemmia.\\n'\n",
      " '3. The 1988 bottle is a pinot noir.\\n'\n",
      " '4. The merlot is either the Annata Branco or the Bianca Flaux.\\n'\n",
      " '5. The Bianca Flaux was bottled sometime after the Ece Suss.\\n'\n",
      " '6. The 1984 bottle is a gewurztraminer.\\n'\n",
      " '\\n'\n",
      " 'While answering use the following format:\\n'\n",
      " 'Step-by-step solution:\\n'\n",
      " 'Your steps showing how you are solving the puzzle\\n'\n",
      " 'Final Answer:\\n'\n",
      " 'Fill the following table to show your final answer.\\n'\n",
      " '1984 | correct option from wines | correct option from types\\n'\n",
      " '1988 | correct option from wines | correct option from types\\n'\n",
      " '1992 | correct option from wines | correct option from types\\n'\n",
      " '1996 | correct option from wines | correct option from types\\n')\n"
     ]
    }
   ],
   "source": [
    "from pprint import pprint\n",
    "pprint(df[\"question\"].iloc[0])"
   ]
  },
  {
   "cell_type": "code",
   "execution_count": 3,
   "metadata": {},
   "outputs": [],
   "source": [
    "import json\n",
    "with open(r\"../prompts_info.json\", \"r\") as f:\n",
    "    prompt_json = json.load(f)"
   ]
  },
  {
   "cell_type": "code",
   "execution_count": 7,
   "metadata": {},
   "outputs": [
    {
     "name": "stderr",
     "output_type": "stream",
     "text": [
      "INFO:google_genai.models:AFC is enabled with max remote calls: 10.\n",
      "INFO:google_genai.models:AFC remote call 1 is done.\n",
      "INFO:google_genai.models:AFC is enabled with max remote calls: 10.\n",
      "INFO:google_genai.models:AFC remote call 1 is done.\n",
      "INFO:google_genai.models:AFC is enabled with max remote calls: 10.\n"
     ]
    },
    {
     "name": "stdout",
     "output_type": "stream",
     "text": [
      "[('update_matrix', <function update_matrix at 0x0000024FF55E23B0>)]\n"
     ]
    },
    {
     "name": "stderr",
     "output_type": "stream",
     "text": [
      "INFO:google_genai.models:AFC remote call 1 is done.\n",
      "INFO:google_genai.models:AFC is enabled with max remote calls: 10.\n",
      "INFO:google_genai.models:AFC remote call 1 is done.\n"
     ]
    },
    {
     "name": "stdout",
     "output_type": "stream",
     "text": [
      "Let's analyze the probability matrices to determine the most likely associations between vintages, wines, and types. The key is to look for the highest probabilities in each row of the matrices.\n",
      "\n",
      "*   **`vintagesxwines`**: This matrix shows the probabilities of each vintage being associated with each wine.\n",
      "*   **`vintagesxtypes`**: This matrix shows the probabilities of each vintage being associated with each wine type.\n",
      "*   **`winesxtypes`**: This matrix shows the probabilities of each wine being associated with each wine type.\n",
      "\n",
      "Let's denote the vintages as V1 (1984), V2 (1988), V3 (1992), and V4 (1996).\n",
      "Let's denote the wines as W1 (Annata Branco), W2 (Bianca Flaux), W3 (Ece Suss), and W4 (Vendemmia).\n",
      "Let's denote the types as T1 (gewurztraminer), T2 (merlot), T3 (pinot noir), and T4 (riesling).\n",
      "\n",
      "Now, let's find the maximum probability for each vintage in relation to wines and types:\n",
      "\n",
      "*   **1984 (V1):**\n",
      "    *   `vintagesxwines`: Max probability is 0.55194797, associated with Annata Branco (W1).\n",
      "    *   `vintagesxtypes`: Max probability is 0.48844831, associated with gewurztraminer (T1).\n",
      "\n",
      "*   **1988 (V2):**\n",
      "    *   `vintagesxwines`: Max probability is 0.54092178, associated with Bianca Flaux (W2).\n",
      "    *   `vintagesxtypes`: Max probability is 0.47574784, associated with merlot (T2).\n",
      "\n",
      "*   **1992 (V3):**\n",
      "    *   `vintagesxwines`: Max probability is 0.52829953, associated with Ece Suss (W3).\n",
      "    *   `vintagesxtypes`: Max probability is 0.30411699, associated with pinot noir (T3) and riesling (T4). Since both have the same probability, we can't definitively choose one based on this matrix alone.\n",
      "\n",
      "*   **1996 (V4):**\n",
      "    *   `vintagesxwines`: Max probability is 0.51345894, associated with Vendemmia (W4).\n",
      "    *   `vintagesxtypes`: Max probability is 0.30411699, associated with pinot noir (T3) and riesling (T4). Since both have the same probability, we can't definitively choose one based on this matrix alone.\n",
      "\n",
      "To resolve the ambiguity for 1992 and 1996, let's look at the `winesxtypes` matrix for Ece Suss (W3) and Vendemmia (W4):\n",
      "\n",
      "*   Ece Suss (W3): Max probability is 0.30411699, associated with merlot (T2) and pinot noir (T3).\n",
      "*   Vendemmia (W4): Max probability is 0.47574784, associated with riesling (T4).\n",
      "\n",
      "Given this, it's more likely that 1992 is associated with pinot noir (T3) and 1996 is associated with riesling (T4).\n",
      "\n",
      "Here's the final table:\n",
      "\n",
      "|          | Wines          | Types        |\n",
      "| :------- | :------------- | :----------- |\n",
      "| **1984** | Annata Branco  | gewurztraminer |\n",
      "| **1988** | Bianca Flaux   | merlot       |\n",
      "| **1992** | Ece Suss       | pinot noir   |\n",
      "| **1996** | Vendemmia      | riesling     |\n",
      "\n"
     ]
    }
   ],
   "source": [
    "for index in range(df.shape[0]):\n",
    "    if index == 0:\n",
    "        final_response = run_multi_agent_system(df=df, index=index, prompt_json=prompt_json, Agent=Agent)\n",
    "        print(final_response)\n",
    "        break"
   ]
  },
  {
   "cell_type": "code",
   "execution_count": 6,
   "metadata": {},
   "outputs": [
    {
     "name": "stdout",
     "output_type": "stream",
     "text": [
      "1984 | Annata Branco | gewurztraminer\n",
      "1988 | Ece Suss | pinot noir\n",
      "1992 | Bianca Flaux | merlot\n",
      "1996 | Vendemmia | riesling\n"
     ]
    }
   ],
   "source": [
    "print(df[\"answer\"].iloc[0])"
   ]
  }
 ],
 "metadata": {
  "kernelspec": {
   "display_name": "base",
   "language": "python",
   "name": "python3"
  },
  "language_info": {
   "codemirror_mode": {
    "name": "ipython",
    "version": 3
   },
   "file_extension": ".py",
   "mimetype": "text/x-python",
   "name": "python",
   "nbconvert_exporter": "python",
   "pygments_lexer": "ipython3",
   "version": "3.10.10"
  }
 },
 "nbformat": 4,
 "nbformat_minor": 2
}
