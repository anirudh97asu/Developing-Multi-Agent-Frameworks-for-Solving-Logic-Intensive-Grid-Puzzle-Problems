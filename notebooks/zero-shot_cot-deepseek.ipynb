{
 "cells": [
  {
   "cell_type": "code",
   "execution_count": 1,
   "id": "7e808154",
   "metadata": {},
   "outputs": [],
   "source": [
    "import os\n",
    "from dotenv import load_dotenv\n",
    "import pandas as pd\n",
    "import pickle\n",
    "import numpy as np\n",
    "import os\n",
    "import sys\n",
    "\n",
    "sys.path.append(os.path.dirname(os.getcwd()))\n",
    "from groq import Groq\n",
    "from src.llm_engine.gemini_agent import Agent\n"
   ]
  },
  {
   "cell_type": "code",
   "execution_count": 2,
   "id": "4ef5e7b1",
   "metadata": {},
   "outputs": [
    {
     "data": {
      "text/html": [
       "<div>\n",
       "<style scoped>\n",
       "    .dataframe tbody tr th:only-of-type {\n",
       "        vertical-align: middle;\n",
       "    }\n",
       "\n",
       "    .dataframe tbody tr th {\n",
       "        vertical-align: top;\n",
       "    }\n",
       "\n",
       "    .dataframe thead th {\n",
       "        text-align: right;\n",
       "    }\n",
       "</style>\n",
       "<table border=\"1\" class=\"dataframe\">\n",
       "  <thead>\n",
       "    <tr style=\"text-align: right;\">\n",
       "      <th></th>\n",
       "      <th>key</th>\n",
       "      <th>id</th>\n",
       "      <th>question</th>\n",
       "      <th>answer</th>\n",
       "      <th>Mistral-7b</th>\n",
       "      <th>Llama-13b</th>\n",
       "      <th>gemini-pro</th>\n",
       "      <th>gpt-4-turbo</th>\n",
       "      <th>Claude-3</th>\n",
       "      <th>actual_question</th>\n",
       "      <th>Clues</th>\n",
       "      <th>categories</th>\n",
       "      <th>number_of_clues</th>\n",
       "      <th>number_categories</th>\n",
       "      <th>category_names</th>\n",
       "    </tr>\n",
       "  </thead>\n",
       "  <tbody>\n",
       "    <tr>\n",
       "      <th>0</th>\n",
       "      <td>341.json</td>\n",
       "      <td>802</td>\n",
       "      <td>Nicholas and Edith are having a small dinner p...</td>\n",
       "      <td>1984 | Annata Branco | gewurztraminer\\n1988 | ...</td>\n",
       "      <td>| 1984 | Annata Branco | gewurztraminer |\\n |-...</td>\n",
       "      <td>Let's solve the puzzle step by step.\\n \\n Step...</td>\n",
       "      <td>Step-by-step solution:\\n 1. From clue 6, we kn...</td>\n",
       "      <td>Step-by-step solution:\\n \\n 1. From clue 6, we...</td>\n",
       "      <td>Step-by-step solution:\\n \\n 1. From clue 6, we...</td>\n",
       "      <td>Nicholas and Edith are having a small dinner p...</td>\n",
       "      <td>Clues:\\n1. The Ece Suss was bottled sometime a...</td>\n",
       "      <td>vintages : 1984, 1988, 1992, 1996.\\nwines : An...</td>\n",
       "      <td>6</td>\n",
       "      <td>3</td>\n",
       "      <td>vintages wines types</td>\n",
       "    </tr>\n",
       "  </tbody>\n",
       "</table>\n",
       "</div>"
      ],
      "text/plain": [
       "        key   id                                           question  \\\n",
       "0  341.json  802  Nicholas and Edith are having a small dinner p...   \n",
       "\n",
       "                                              answer  \\\n",
       "0  1984 | Annata Branco | gewurztraminer\\n1988 | ...   \n",
       "\n",
       "                                          Mistral-7b  \\\n",
       "0  | 1984 | Annata Branco | gewurztraminer |\\n |-...   \n",
       "\n",
       "                                           Llama-13b  \\\n",
       "0  Let's solve the puzzle step by step.\\n \\n Step...   \n",
       "\n",
       "                                          gemini-pro  \\\n",
       "0  Step-by-step solution:\\n 1. From clue 6, we kn...   \n",
       "\n",
       "                                         gpt-4-turbo  \\\n",
       "0  Step-by-step solution:\\n \\n 1. From clue 6, we...   \n",
       "\n",
       "                                            Claude-3  \\\n",
       "0  Step-by-step solution:\\n \\n 1. From clue 6, we...   \n",
       "\n",
       "                                     actual_question  \\\n",
       "0  Nicholas and Edith are having a small dinner p...   \n",
       "\n",
       "                                               Clues  \\\n",
       "0  Clues:\\n1. The Ece Suss was bottled sometime a...   \n",
       "\n",
       "                                          categories  number_of_clues  \\\n",
       "0  vintages : 1984, 1988, 1992, 1996.\\nwines : An...                6   \n",
       "\n",
       "   number_categories        category_names  \n",
       "0                  3  vintages wines types  "
      ]
     },
     "execution_count": 2,
     "metadata": {},
     "output_type": "execute_result"
    }
   ],
   "source": [
    "import pandas as pd\n",
    "df = pd.read_csv(r\"./data/GridPuzzle_processed.csv\")\n",
    "# = df[~df[\"id\"].isin([16, 244, 503, 687, 897, 919, 1020, 1084, 1250, 1370, 1597, 1792, 1935, 1980, 2078, 2140, 2208, 2300, 2500, 2550, 2566, 2675, 2691, 2700, 2723, 2847, 3002, 3444, 3458, 3510, 3601, 3624, 3642, 3736, 3936, 3954, 3957, 4020, 4064, 4289, 4465, 4600, 4624, 4658, 4937, 4941, 5152, 5212, 5257, 5325, 5585, 5628, 5659, 5740, 5772, 5804, 6045, 6125, 6292, 6402, 6421, 6432, 6541, 6621, 6671, 6746, 6748, 6782, 6823, 6843, 6925, 7098, 7116, 7183, 7188, 7234, 7389, 7404, 7429, 7591, 7598, 7610, 7685, 7729, 7865, 7866, 7943, 7959, 7976, 7993, 7997, 8066, 8142, 8198, 8356, 8458, 8474, 8481, 8526, 8600, 8685, 8712, 8716, 8853, 9039, 9043, 9065, 9076, 9121, 9139, 9288, 9390, 9476, 9497, 9560, 9596, 9719, 9738, 9779, 9965, 9976, 9984, 10037, 10100, 10122, 10123, 10170, 10178, 10251, 10440, 10450, 10564, 10583, 10730, 11022, 11033, 11108, 11163, 11214, 11263, 11304, 11310, 11321, 11367, 11407, 11434, 11465, 11474, 11546, 11592, 11603, 11732, 11748, 11908, 11923, 11954, 12037, 12082, 12117, 12133, 12172, 12221, 12356, 12395, 12535, 12586, 12595, 12652, 12689, 12702, 12703, 12782, 12818, 12900, 12980, 13003, 13048, 13051, 13198, 13364, 13407, 13422, 13458,13527,13561])]\n",
    "# df = df[df[\"id\"].isin([13, 821, 687, 718, 350, 1084, 1677, 1437, 1597, 1935, 1020, 1495, 2893, 2208, 2700, 2788, 3720, 3936, 3642, 3659, 4465, 4658, 4087, 4861, 4140, 4464, 4848, 3954, 5740, 5675, 5212, 4976, 5889, 5659, 5325, 5585, 6843, 6292, 6045, 6432, 6823, 5923, 6778, 6997, 7685, 7865, 7183, 7389, 7866, 7188, 7837, 8712, 7959, 8356, 8142, 7993, 8519, 9106, 9719, 9139, 9487, 8853, 8988, 9043, 9497, 9596, 9965, 10037, 10380, 10100, 10450, 10440, 9976, 10251, 11592, 11097, 11022, 11603, 11546, 11748, 11263, 11367, 11407, 11304, 11321, 11923, 12703, 12356, 12535, 12172, 12133, 12395, 12818, 13003, 12900, 13407, 13198, 12782, 13051, 12980])]\n",
    "df.head(1)"
   ]
  },
  {
   "cell_type": "code",
   "execution_count": 5,
   "id": "92446d69",
   "metadata": {},
   "outputs": [
    {
     "data": {
      "text/html": [
       "<div>\n",
       "<style scoped>\n",
       "    .dataframe tbody tr th:only-of-type {\n",
       "        vertical-align: middle;\n",
       "    }\n",
       "\n",
       "    .dataframe tbody tr th {\n",
       "        vertical-align: top;\n",
       "    }\n",
       "\n",
       "    .dataframe thead th {\n",
       "        text-align: right;\n",
       "    }\n",
       "</style>\n",
       "<table border=\"1\" class=\"dataframe\">\n",
       "  <thead>\n",
       "    <tr style=\"text-align: right;\">\n",
       "      <th></th>\n",
       "      <th></th>\n",
       "      <th></th>\n",
       "      <th></th>\n",
       "      <th></th>\n",
       "      <th></th>\n",
       "      <th></th>\n",
       "      <th></th>\n",
       "      <th></th>\n",
       "      <th></th>\n",
       "      <th></th>\n",
       "      <th></th>\n",
       "      <th></th>\n",
       "      <th></th>\n",
       "      <th></th>\n",
       "      <th>GridPuzzle_processed</th>\n",
       "    </tr>\n",
       "  </thead>\n",
       "  <tbody>\n",
       "    <tr>\n",
       "      <th>key</th>\n",
       "      <th>id</th>\n",
       "      <th>question</th>\n",
       "      <th>answer</th>\n",
       "      <th>Manual Validation as of 25th April (Pushkar)</th>\n",
       "      <th>Mistral-7b</th>\n",
       "      <th>Llama-13b</th>\n",
       "      <th>gemini-pro</th>\n",
       "      <th>gpt-4-turbo</th>\n",
       "      <th>Claude-3</th>\n",
       "      <th>actual_question</th>\n",
       "      <th>Clues</th>\n",
       "      <th>categories</th>\n",
       "      <th>number_of_clues</th>\n",
       "      <th>number_categories</th>\n",
       "      <td>category_names</td>\n",
       "    </tr>\n",
       "  </tbody>\n",
       "</table>\n",
       "</div>"
      ],
      "text/plain": [
       "                                                                                                                                                                                            GridPuzzle_processed\n",
       "key id question answer Manual Validation as of 25th April (Pushkar) Mistral-7b Llama-13b gemini-pro gpt-4-turbo Claude-3 actual_question Clues categories number_of_clues number_categories       category_names"
      ]
     },
     "execution_count": 5,
     "metadata": {},
     "output_type": "execute_result"
    }
   ],
   "source": [
    "import pandas as pd\n",
    "df = pd.read_csv(r\"../GridPuzzle_final.csv\")\n",
    "# = df[~df[\"id\"].isin([16, 244, 503, 687, 897, 919, 1020, 1084, 1250, 1370, 1597, 1792, 1935, 1980, 2078, 2140, 2208, 2300, 2500, 2550, 2566, 2675, 2691, 2700, 2723, 2847, 3002, 3444, 3458, 3510, 3601, 3624, 3642, 3736, 3936, 3954, 3957, 4020, 4064, 4289, 4465, 4600, 4624, 4658, 4937, 4941, 5152, 5212, 5257, 5325, 5585, 5628, 5659, 5740, 5772, 5804, 6045, 6125, 6292, 6402, 6421, 6432, 6541, 6621, 6671, 6746, 6748, 6782, 6823, 6843, 6925, 7098, 7116, 7183, 7188, 7234, 7389, 7404, 7429, 7591, 7598, 7610, 7685, 7729, 7865, 7866, 7943, 7959, 7976, 7993, 7997, 8066, 8142, 8198, 8356, 8458, 8474, 8481, 8526, 8600, 8685, 8712, 8716, 8853, 9039, 9043, 9065, 9076, 9121, 9139, 9288, 9390, 9476, 9497, 9560, 9596, 9719, 9738, 9779, 9965, 9976, 9984, 10037, 10100, 10122, 10123, 10170, 10178, 10251, 10440, 10450, 10564, 10583, 10730, 11022, 11033, 11108, 11163, 11214, 11263, 11304, 11310, 11321, 11367, 11407, 11434, 11465, 11474, 11546, 11592, 11603, 11732, 11748, 11908, 11923, 11954, 12037, 12082, 12117, 12133, 12172, 12221, 12356, 12395, 12535, 12586, 12595, 12652, 12689, 12702, 12703, 12782, 12818, 12900, 12980, 13003, 13048, 13051, 13198, 13364, 13407, 13422, 13458,13527,13561])]\n",
    "# df = df[df[\"id\"].isin([13, 821, 687, 718, 350, 1084, 1677, 1437, 1597, 1935, 1020, 1495, 2893, 2208, 2700, 2788, 3720, 3936, 3642, 3659, 4465, 4658, 4087, 4861, 4140, 4464, 4848, 3954, 5740, 5675, 5212, 4976, 5889, 5659, 5325, 5585, 6843, 6292, 6045, 6432, 6823, 5923, 6778, 6997, 7685, 7865, 7183, 7389, 7866, 7188, 7837, 8712, 7959, 8356, 8142, 7993, 8519, 9106, 9719, 9139, 9487, 8853, 8988, 9043, 9497, 9596, 9965, 10037, 10380, 10100, 10450, 10440, 9976, 10251, 11592, 11097, 11022, 11603, 11546, 11748, 11263, 11367, 11407, 11304, 11321, 11923, 12703, 12356, 12535, 12172, 12133, 12395, 12818, 13003, 12900, 13407, 13198, 12782, 13051, 12980])]\n",
    "df.head(1)"
   ]
  },
  {
   "cell_type": "code",
   "execution_count": 3,
   "id": "cecf489e",
   "metadata": {},
   "outputs": [
    {
     "data": {
      "text/html": [
       "<div>\n",
       "<style scoped>\n",
       "    .dataframe tbody tr th:only-of-type {\n",
       "        vertical-align: middle;\n",
       "    }\n",
       "\n",
       "    .dataframe tbody tr th {\n",
       "        vertical-align: top;\n",
       "    }\n",
       "\n",
       "    .dataframe thead th {\n",
       "        text-align: right;\n",
       "    }\n",
       "</style>\n",
       "<table border=\"1\" class=\"dataframe\">\n",
       "  <thead>\n",
       "    <tr style=\"text-align: right;\">\n",
       "      <th></th>\n",
       "      <th>key</th>\n",
       "      <th>id</th>\n",
       "      <th>question</th>\n",
       "      <th>answer</th>\n",
       "      <th>Mistral-7b</th>\n",
       "      <th>Llama-13b</th>\n",
       "      <th>gemini-pro</th>\n",
       "      <th>gpt-4-turbo</th>\n",
       "      <th>Claude-3</th>\n",
       "      <th>actual_question</th>\n",
       "      <th>Clues</th>\n",
       "      <th>categories</th>\n",
       "      <th>number_of_clues</th>\n",
       "      <th>number_categories</th>\n",
       "      <th>category_names</th>\n",
       "    </tr>\n",
       "  </thead>\n",
       "  <tbody>\n",
       "  </tbody>\n",
       "</table>\n",
       "</div>"
      ],
      "text/plain": [
       "Empty DataFrame\n",
       "Columns: [key, id, question, answer, Mistral-7b, Llama-13b, gemini-pro, gpt-4-turbo, Claude-3, actual_question, Clues, categories, number_of_clues, number_categories, category_names]\n",
       "Index: []"
      ]
     },
     "execution_count": 3,
     "metadata": {},
     "output_type": "execute_result"
    }
   ],
   "source": [
    "df[df[\"id\"] == 997]"
   ]
  },
  {
   "cell_type": "code",
   "execution_count": 47,
   "id": "d396860a",
   "metadata": {},
   "outputs": [
    {
     "data": {
      "text/plain": [
       "(89, 15)"
      ]
     },
     "execution_count": 47,
     "metadata": {},
     "output_type": "execute_result"
    }
   ],
   "source": [
    "df.shape"
   ]
  },
  {
   "cell_type": "code",
   "execution_count": 48,
   "id": "40f6a61d",
   "metadata": {},
   "outputs": [],
   "source": [
    "v = [11304, 13407, 3444]\n",
    "ids_ = df[\"id\"].values.tolist()\n",
    "\n",
    "for val in ids_:\n",
    "    if val in v:\n",
    "        print(val)"
   ]
  },
  {
   "cell_type": "code",
   "execution_count": 19,
   "id": "771972fe",
   "metadata": {},
   "outputs": [
    {
     "name": "stdout",
     "output_type": "stream",
     "text": [
      "April 4th | Linda Lott | solar eclipse\n",
      "April 5th | Randy Reid | flooding\n",
      "April 6th | Tam Terry | earthquake\n",
      "April 7th | Sid Snyder | royal wedding\n"
     ]
    }
   ],
   "source": [
    "print(df[df[\"id\"] == 244][\"answer\"].values.tolist()[0])"
   ]
  },
  {
   "cell_type": "code",
   "execution_count": null,
   "id": "a29f306c",
   "metadata": {},
   "outputs": [],
   "source": [
    "# Final Answer:\n",
    "\n",
    "\n",
    "# April 4th | Linda Lott | earthquake\n",
    "# April 5th | Tam Terry | flooding\n",
    "# April 6th | Sid Snyder | solar eclipse\n",
    "# April 7th | Randy Reid | royal wedding\n"
   ]
  },
  {
   "cell_type": "code",
   "execution_count": 37,
   "id": "88f049bf",
   "metadata": {},
   "outputs": [],
   "source": [
    "import shutil\n",
    "\n",
    "path = r\"C:\\Users\\aniru\\Downloads\\NLP- Project\\deepseek_responses\"\n",
    "\n",
    "dest = r\"C:\\Users\\aniru\\Downloads\\validate\"\n",
    "\n",
    "indices = [16, 244, 503, 687, 897, 919, 1020, 1084, 1250, 1370, 1597, 1792, 1935, 1980, 2078, 2140, 2208, 2300, 2500, 2550, 2566, 2675, 2691, 2700, 2723, 2847, 3002, 3444, 3458, 3510, 3601, 3624, 3642, 3736, 3936, 3954, 3957, 4020, 4064, 4289, 4465, 4600, 4624, 4658, 4937, 4941, 5152, 5212, 5257, 5325, 5585, 5628, 5659, 5740, 5772, 5804, 6045, 6125, 6292, 6402, 6421, 6432, 6541, 6621, 6671, 6746, 6748, 6782, 6823, 6843, 6925, 7098, 7116, 7183, 7188, 7234, 7389, 7404, 7429, 7591, 7598, 7610, 7685, 7729, 7865, 7866, 7943, 7959, 7976, 7993, 7997, 8066, 8142, 8198, 8356, 8458, 8474, 8481, 8526, 8600, 8685, 8712, 8716, 8853, 9039, 9043, 9065, 9076, 9121, 9139, 9288, 9390, 9476, 9497, 9560, 9596, 9719, 9738, 9779, 9965, 9976, 9984, 10037, 10100, 10122, 10123, 10170, 10178, 10251, 10440, 10450, 10564, 10583, 10730, 11022, 11033, 11108, 11163, 11214, 11263, 11304, 11310, 11321, 11367, 11407, 11434, 11465, 11474, 11546, 11592, 11603, 11732, 11748, 11908, 11923, 11954, 12037, 12082, 12117, 12133, 12172, 12221, 12356, 12395, 12535, 12586, 12595, 12652, 12689, 12702, 12703, 12782, 12818, 12900, 12980, 13003, 13048, 13051, 13198, 13364, 13407, 13422, 13458,13527,13561]\n",
    "\n",
    "for file in os.listdir(path):\n",
    "\n",
    "    index = int(file.split(\"_\")[2].split(\".\")[0])\n",
    "\n",
    "    if index in indices:\n",
    "\n",
    "        shutil.copy(os.path.join(path, file), dest)\n",
    "        \n"
   ]
  },
  {
   "cell_type": "code",
   "execution_count": 40,
   "id": "29b5f4ca",
   "metadata": {},
   "outputs": [
    {
     "name": "stdout",
     "output_type": "stream",
     "text": [
      "83\n"
     ]
    }
   ],
   "source": [
    "import re\n",
    "path = r\"C:\\Users\\aniru\\Downloads\\validate\"\n",
    "valid = []\n",
    "for file in os.listdir(path):\n",
    "\n",
    "    if \"table\" not in file:\n",
    "\n",
    "        with open(os.path.join(path, file), \"r\") as f:\n",
    "            lines = f.readlines()\n",
    "        \n",
    "        reverse_lines = lines[::-1]\n",
    "\n",
    "        ckpt = -1\n",
    "        \n",
    "        for line_index, line in enumerate(reverse_lines):\n",
    "            \n",
    "            if ckpt == 1:\n",
    "                break\n",
    "\n",
    "            elif ckpt == -1 and (line_index / len(reverse_lines)) >= 0.25:\n",
    "                break\n",
    "\n",
    "            else:\n",
    "                if re.search(r\"final solution|final table|final answer\", line.lower()) is not None:\n",
    "                    ckpt = 1\n",
    "\n",
    "        if ckpt == 1:\n",
    "            valid.append(os.path.join(path, file))\n",
    "\n",
    "\n",
    "print(len(valid))"
   ]
  },
  {
   "cell_type": "code",
   "execution_count": 35,
   "id": "d6153852",
   "metadata": {},
   "outputs": [
    {
     "data": {
      "text/plain": [
       "'C:\\\\Users\\\\aniru\\\\Downloads\\\\validate\\\\deepseek_pred_4658.txt'"
      ]
     },
     "execution_count": 35,
     "metadata": {},
     "output_type": "execute_result"
    }
   ],
   "source": [
    "valid[1]"
   ]
  },
  {
   "cell_type": "code",
   "execution_count": 41,
   "id": "94404e18",
   "metadata": {},
   "outputs": [],
   "source": [
    "path = r\"C:\\Users\\aniru\\Downloads\\validate\"\n",
    "\n",
    "dest_1 = r\"C:\\Users\\aniru\\Downloads\\validate\\with_tables\"\n",
    "dest_2 = r\"C:\\Users\\aniru\\Downloads\\validate\\without_tables\"\n",
    "\n",
    "\n",
    "\n",
    "if not os.path.exists(dest_1):\n",
    "    os.mkdir(dest_1)\n",
    "\n",
    "if not os.path.exists(dest_2):\n",
    "    os.mkdir(dest_2)\n",
    "\n",
    "\n",
    "for file in os.listdir(path):\n",
    "\n",
    "    if not os.path.isdir(os.path.join(path,file)):\n",
    "    \n",
    "        if os.path.join(path, file) in valid:\n",
    "            \n",
    "            shutil.move(os.path.join(path, file), dest_1)\n",
    "        \n",
    "        else:\n",
    "            shutil.move(os.path.join(path, file), dest_2)\n"
   ]
  },
  {
   "cell_type": "code",
   "execution_count": null,
   "id": "f0cb065c",
   "metadata": {},
   "outputs": [],
   "source": []
  },
  {
   "cell_type": "code",
   "execution_count": 3,
   "id": "b72c26f1",
   "metadata": {},
   "outputs": [],
   "source": [
    "client = Groq(\n",
    "    api_key= os.getenv(\"GROQ_API_KEY\"),\n",
    ")"
   ]
  },
  {
   "cell_type": "code",
   "execution_count": 3,
   "id": "068dd321",
   "metadata": {},
   "outputs": [],
   "source": [
    "import re\n",
    "def process_ls(ls):\n",
    "    if re.search(r\"\\d+\",ls[0]) is None:\n",
    "        return ls\n",
    "\n",
    "    else:\n",
    "        res = []\n",
    "        for val in ls:\n",
    "            val = re.sub(r\"[^\\d+]\", '', val)\n",
    "            res.append(val)\n",
    "        return res\n"
   ]
  },
  {
   "cell_type": "code",
   "execution_count": 4,
   "id": "b56f74a5",
   "metadata": {},
   "outputs": [],
   "source": [
    "import re\n",
    "def process_question(question):\n",
    "    lines = question.split(\"\\n\")\n",
    "    categories = {}\n",
    "    clues = []\n",
    "    actual_question = \"\"\n",
    "    ckpt = -1\n",
    "    flag = -1\n",
    "    for index, line in enumerate(lines):\n",
    "\n",
    "\n",
    "        if ckpt == 1 and re.search(r\"^\\d+\\.\", line) is None:\n",
    "            break\n",
    "\n",
    "        if \" : \" in line:\n",
    "            if flag == -1:\n",
    "                flag = index\n",
    "            title, ls = line.split(\" : \")[0], line.split(\" : \")[1].split(\", \")\n",
    "            ls = process_ls(ls)\n",
    "            categories[title] = ls\n",
    "        \n",
    "        if \"Clues\" in line:\n",
    "            ckpt = 1\n",
    "            continue\n",
    "        \n",
    "        if ckpt == 1 and re.search(r\"\\d+\\.\", line) is not None:\n",
    "            clues.append(line)\n",
    "        \n",
    "\n",
    "\n",
    "    actual_question += \"\\n\".join(lines[:flag])            \n",
    "\n",
    "    return actual_question, categories, clues\n",
    "\n",
    "\n",
    "#ques, categories, clues = process_question(df[\"question\"].iloc[100])\n"
   ]
  },
  {
   "cell_type": "code",
   "execution_count": 6,
   "id": "7dc6c6bb",
   "metadata": {},
   "outputs": [],
   "source": [
    "path = r\"./deepseek_responses\"\n",
    "if not os.path.exists(path):\n",
    "    os.mkdir(path)"
   ]
  },
  {
   "cell_type": "code",
   "execution_count": 10,
   "id": "cbf8a1c3",
   "metadata": {},
   "outputs": [],
   "source": [
    "for i, row in df.iterrows():\n",
    "    \n",
    "    id_ = row[\"id\"]\n",
    "    user_query = row[\"question\"]\n",
    "\n",
    "\n",
    "    completion = client.chat.completions.create(\n",
    "        model=\"deepseek-r1-distill-llama-70b\",\n",
    "        messages=[{\n",
    "                \"role\": \"user\",\n",
    "                \"content\": user_query\n",
    "\n",
    "            }],\n",
    "        temperature=0,\n",
    "        max_completion_tokens=8192,\n",
    "        top_p=1,\n",
    "        stream=True,\n",
    "        stop=None,\n",
    "    )\n",
    "\n",
    "    groq_deepseek_response = \"\"\n",
    "    for chunk in completion:\n",
    "        text = chunk.choices[0].delta.content or \"\"\n",
    "        groq_deepseek_response += text\n",
    "\n",
    "    groq_deepseek_response\n",
    "\n",
    "\n",
    "    with open(os.path.join(path, f\"deepseek_pred_{id_}.txt\"), \"w\") as f:\n",
    "        f.write(groq_deepseek_response)"
   ]
  },
  {
   "cell_type": "code",
   "execution_count": 11,
   "id": "66a072bc",
   "metadata": {},
   "outputs": [],
   "source": [
    "path = r\"./deepseek_responses\"\n",
    "if not os.path.exists(path):\n",
    "    os.mkdir(path)"
   ]
  },
  {
   "cell_type": "code",
   "execution_count": 5,
   "id": "e5a72828",
   "metadata": {},
   "outputs": [],
   "source": [
    "ids= []\n",
    "for file in os.listdir(path):\n",
    "\n",
    "    id_ = file.split(\"_\")[2].split(\".\")[0]\n",
    "\n",
    "    ids.append(id_)\n"
   ]
  },
  {
   "cell_type": "code",
   "execution_count": 6,
   "id": "21d8edba",
   "metadata": {},
   "outputs": [
    {
     "name": "stdout",
     "output_type": "stream",
     "text": [
      "132\n"
     ]
    }
   ],
   "source": [
    "print(len(ids))"
   ]
  },
  {
   "cell_type": "code",
   "execution_count": 9,
   "id": "bfdb569a",
   "metadata": {},
   "outputs": [
    {
     "name": "stdout",
     "output_type": "stream",
     "text": [
      "(142, 15)\n"
     ]
    }
   ],
   "source": [
    "df[\"id\" ] = df[\"id\"].astype(str)\n",
    "\n",
    "df = df[~df[\"id\"].isin(ids)]\n",
    "\n",
    "print(df.shape)"
   ]
  },
  {
   "cell_type": "code",
   "execution_count": 16,
   "id": "76c1443c",
   "metadata": {},
   "outputs": [],
   "source": [
    "agent = Agent(system_prompt=\"You are an AI assistant\", agent_name=\"csp_agent\")\n",
    "\n",
    "for i, row in df.iterrows():\n",
    "    \n",
    "    id_ = row[\"id\"]\n",
    "    \n",
    "    user_query = row[\"question\"]\n",
    "\n",
    "    response = agent.perform_action(user_query=user_query)\n",
    "\n",
    "\n",
    "    with open(os.path.join(path, f\"gemini_pred_{id_}.txt\"), \"w\") as f:\n",
    "        f.write(response)"
   ]
  },
  {
   "cell_type": "code",
   "execution_count": 4,
   "id": "02c2b2f2",
   "metadata": {},
   "outputs": [
    {
     "name": "stdout",
     "output_type": "stream",
     "text": [
      "14\n"
     ]
    }
   ],
   "source": [
    "import os\n",
    "import re\n",
    "\n",
    "count = 0\n",
    "path = r\"./gemini_responses\"\n",
    "for file in os.listdir(path):\n",
    "    fp = os.path.join(path, file)\n",
    "\n",
    "    with open(fp, \"r\") as f:\n",
    "        lines = f.readlines()\n",
    "    \n",
    "    text = \"\\n\".join(lines)\n",
    "    if re.search(r\"final answer:\", text.lower()) is not None:\n",
    "\n",
    "        reqd_ = text.split(\"Final Answer:\")[1]\n",
    "        \n",
    "        if reqd_:\n",
    "            count += 1\n",
    "\n",
    "print(count)"
   ]
  }
 ],
 "metadata": {
  "kernelspec": {
   "display_name": "base",
   "language": "python",
   "name": "python3"
  },
  "language_info": {
   "codemirror_mode": {
    "name": "ipython",
    "version": 3
   },
   "file_extension": ".py",
   "mimetype": "text/x-python",
   "name": "python",
   "nbconvert_exporter": "python",
   "pygments_lexer": "ipython3",
   "version": "3.10.10"
  }
 },
 "nbformat": 4,
 "nbformat_minor": 5
}
