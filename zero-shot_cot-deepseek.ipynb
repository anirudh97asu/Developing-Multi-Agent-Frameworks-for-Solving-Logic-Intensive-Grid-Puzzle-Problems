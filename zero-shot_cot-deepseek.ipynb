{
 "cells": [
  {
   "cell_type": "code",
   "execution_count": 2,
   "id": "7e808154",
   "metadata": {},
   "outputs": [],
   "source": [
    "import os\n",
    "from dotenv import load_dotenv\n",
    "import pandas as pd\n",
    "import pickle\n",
    "import numpy as np\n",
    "import os\n",
    "import sys\n",
    "\n",
    "sys.path.append(os.path.dirname(os.getcwd()))\n",
    "from groq import Groq\n",
    "from src.llm_engine.gemini_agent import Agent\n"
   ]
  },
  {
   "cell_type": "code",
   "execution_count": 3,
   "id": "4ef5e7b1",
   "metadata": {},
   "outputs": [
    {
     "data": {
      "text/html": [
       "<div>\n",
       "<style scoped>\n",
       "    .dataframe tbody tr th:only-of-type {\n",
       "        vertical-align: middle;\n",
       "    }\n",
       "\n",
       "    .dataframe tbody tr th {\n",
       "        vertical-align: top;\n",
       "    }\n",
       "\n",
       "    .dataframe thead th {\n",
       "        text-align: right;\n",
       "    }\n",
       "</style>\n",
       "<table border=\"1\" class=\"dataframe\">\n",
       "  <thead>\n",
       "    <tr style=\"text-align: right;\">\n",
       "      <th></th>\n",
       "      <th>key</th>\n",
       "      <th>id</th>\n",
       "      <th>question</th>\n",
       "      <th>answer</th>\n",
       "      <th>Mistral-7b</th>\n",
       "      <th>Llama-13b</th>\n",
       "      <th>gemini-pro</th>\n",
       "      <th>gpt-4-turbo</th>\n",
       "      <th>Claude-3</th>\n",
       "      <th>actual_question</th>\n",
       "      <th>Clues</th>\n",
       "      <th>categories</th>\n",
       "      <th>number_of_clues</th>\n",
       "      <th>number_categories</th>\n",
       "      <th>category_names</th>\n",
       "    </tr>\n",
       "  </thead>\n",
       "  <tbody>\n",
       "    <tr>\n",
       "      <th>6</th>\n",
       "      <td>341.json</td>\n",
       "      <td>13</td>\n",
       "      <td>A group of friends has decided to try several ...</td>\n",
       "      <td>3 | Raymond | vegan\\n5 | Wesley | gluten-free\\...</td>\n",
       "      <td>|------------|------------|\\n | 3 | Raymond |\\...</td>\n",
       "      <td>Let's solve the puzzle step by step!\\n \\n Step...</td>\n",
       "      <td>Step-by-step solution:\\n 1. From clue 3, we kn...</td>\n",
       "      <td>Step-by-step solution:\\n \\n 1. From Clue 3, we...</td>\n",
       "      <td>Step-by-step solution:\\n 1. From clue 3, we kn...</td>\n",
       "      <td>A group of friends has decided to try several ...</td>\n",
       "      <td>Clues:\\n1. Stuart lost 4 more pounds than the ...</td>\n",
       "      <td>pounds lost : 3, 5, 7, 9.\\nnames : Raymond, St...</td>\n",
       "      <td>5</td>\n",
       "      <td>3</td>\n",
       "      <td>lost names diets</td>\n",
       "    </tr>\n",
       "  </tbody>\n",
       "</table>\n",
       "</div>"
      ],
      "text/plain": [
       "        key  id                                           question  \\\n",
       "6  341.json  13  A group of friends has decided to try several ...   \n",
       "\n",
       "                                              answer  \\\n",
       "6  3 | Raymond | vegan\\n5 | Wesley | gluten-free\\...   \n",
       "\n",
       "                                          Mistral-7b  \\\n",
       "6  |------------|------------|\\n | 3 | Raymond |\\...   \n",
       "\n",
       "                                           Llama-13b  \\\n",
       "6  Let's solve the puzzle step by step!\\n \\n Step...   \n",
       "\n",
       "                                          gemini-pro  \\\n",
       "6  Step-by-step solution:\\n 1. From clue 3, we kn...   \n",
       "\n",
       "                                         gpt-4-turbo  \\\n",
       "6  Step-by-step solution:\\n \\n 1. From Clue 3, we...   \n",
       "\n",
       "                                            Claude-3  \\\n",
       "6  Step-by-step solution:\\n 1. From clue 3, we kn...   \n",
       "\n",
       "                                     actual_question  \\\n",
       "6  A group of friends has decided to try several ...   \n",
       "\n",
       "                                               Clues  \\\n",
       "6  Clues:\\n1. Stuart lost 4 more pounds than the ...   \n",
       "\n",
       "                                          categories  number_of_clues  \\\n",
       "6  pounds lost : 3, 5, 7, 9.\\nnames : Raymond, St...                5   \n",
       "\n",
       "   number_categories    category_names  \n",
       "6                  3  lost names diets  "
      ]
     },
     "execution_count": 3,
     "metadata": {},
     "output_type": "execute_result"
    }
   ],
   "source": [
    "import pandas as pd\n",
    "df = pd.read_csv(r\"./data/GridPuzzle_processed.csv\")\n",
    "df = df[df[\"id\"].isin([13, 821, 687, 718, 350, 1084, 1677, 1437, 1597, 1935, 1020, 1495, 2893, 2208, 2700, 2788, 3720, 3936, 3642, 3659, 4465, 4658, 4087, 4861, 4140, 4464, 4848, 3954, 5740, 5675, 5212, 4976, 5889, 5659, 5325, 5585, 6843, 6292, 6045, 6432, 6823, 5923, 6778, 6997, 7685, 7865, 7183, 7389, 7866, 7188, 7837, 8712, 7959, 8356, 8142, 7993, 8519, 9106, 9719, 9139, 9487, 8853, 8988, 9043, 9497, 9596, 9965, 10037, 10380, 10100, 10450, 10440, 9976, 10251, 11592, 11097, 11022, 11603, 11546, 11748, 11263, 11367, 11407, 11304, 11321, 11923, 12703, 12356, 12535, 12172, 12133, 12395, 12818, 13003, 12900, 13407, 13198, 12782, 13051, 12980])]\n",
    "df.head(1)"
   ]
  },
  {
   "cell_type": "code",
   "execution_count": 3,
   "id": "b72c26f1",
   "metadata": {},
   "outputs": [],
   "source": [
    "client = Groq(\n",
    "    api_key= os.getenv(\"GROQ_API_KEY\"),\n",
    ")"
   ]
  },
  {
   "cell_type": "code",
   "execution_count": 3,
   "id": "068dd321",
   "metadata": {},
   "outputs": [],
   "source": [
    "import re\n",
    "def process_ls(ls):\n",
    "    if re.search(r\"\\d+\",ls[0]) is None:\n",
    "        return ls\n",
    "\n",
    "    else:\n",
    "        res = []\n",
    "        for val in ls:\n",
    "            val = re.sub(r\"[^\\d+]\", '', val)\n",
    "            res.append(val)\n",
    "        return res\n"
   ]
  },
  {
   "cell_type": "code",
   "execution_count": 4,
   "id": "b56f74a5",
   "metadata": {},
   "outputs": [],
   "source": [
    "import re\n",
    "def process_question(question):\n",
    "    lines = question.split(\"\\n\")\n",
    "    categories = {}\n",
    "    clues = []\n",
    "    actual_question = \"\"\n",
    "    ckpt = -1\n",
    "    flag = -1\n",
    "    for index, line in enumerate(lines):\n",
    "\n",
    "\n",
    "        if ckpt == 1 and re.search(r\"^\\d+\\.\", line) is None:\n",
    "            break\n",
    "\n",
    "        if \" : \" in line:\n",
    "            if flag == -1:\n",
    "                flag = index\n",
    "            title, ls = line.split(\" : \")[0], line.split(\" : \")[1].split(\", \")\n",
    "            ls = process_ls(ls)\n",
    "            categories[title] = ls\n",
    "        \n",
    "        if \"Clues\" in line:\n",
    "            ckpt = 1\n",
    "            continue\n",
    "        \n",
    "        if ckpt == 1 and re.search(r\"\\d+\\.\", line) is not None:\n",
    "            clues.append(line)\n",
    "        \n",
    "\n",
    "\n",
    "    actual_question += \"\\n\".join(lines[:flag])            \n",
    "\n",
    "    return actual_question, categories, clues\n",
    "\n",
    "\n",
    "#ques, categories, clues = process_question(df[\"question\"].iloc[100])\n"
   ]
  },
  {
   "cell_type": "code",
   "execution_count": 6,
   "id": "7dc6c6bb",
   "metadata": {},
   "outputs": [],
   "source": [
    "path = r\"./deepseek_responses\"\n",
    "if not os.path.exists(path):\n",
    "    os.mkdir(path)"
   ]
  },
  {
   "cell_type": "code",
   "execution_count": null,
   "id": "cbf8a1c3",
   "metadata": {},
   "outputs": [],
   "source": [
    "for i, row in df.iterrows():\n",
    "    \n",
    "    id_ = row[\"id\"]\n",
    "    user_query = row[\"question\"]\n",
    "\n",
    "\n",
    "    completion = client.chat.completions.create(\n",
    "        model=\"deepseek-r1-distill-llama-70b\",\n",
    "        messages=[{\n",
    "                \"role\": \"user\",\n",
    "                \"content\": user_query\n",
    "\n",
    "            }],\n",
    "        temperature=0,\n",
    "        max_completion_tokens=8192,\n",
    "        top_p=1,\n",
    "        stream=True,\n",
    "        stop=None,\n",
    "    )\n",
    "\n",
    "    groq_deepseek_response = \"\"\n",
    "    for chunk in completion:\n",
    "        text = chunk.choices[0].delta.content or \"\"\n",
    "        groq_deepseek_response += text\n",
    "\n",
    "    groq_deepseek_response\n",
    "\n",
    "\n",
    "    with open(os.path.join(path, f\"deepseek_pred_{id_}.txt\"), \"w\") as f:\n",
    "        f.write(groq_deepseek_response)"
   ]
  },
  {
   "cell_type": "code",
   "execution_count": 4,
   "id": "66a072bc",
   "metadata": {},
   "outputs": [],
   "source": [
    "path = r\"./gemini_responses\"\n",
    "if not os.path.exists(path):\n",
    "    os.mkdir(path)"
   ]
  },
  {
   "cell_type": "code",
   "execution_count": 12,
   "id": "e5a72828",
   "metadata": {},
   "outputs": [],
   "source": [
    "ids= []\n",
    "for file in os.listdir(path):\n",
    "\n",
    "    id_ = file.split(\"_\")[2].split(\".\")[0]\n",
    "\n",
    "    ids.append(id_)\n"
   ]
  },
  {
   "cell_type": "code",
   "execution_count": 13,
   "id": "21d8edba",
   "metadata": {},
   "outputs": [
    {
     "name": "stdout",
     "output_type": "stream",
     "text": [
      "59\n"
     ]
    }
   ],
   "source": [
    "print(len(ids))"
   ]
  },
  {
   "cell_type": "code",
   "execution_count": 15,
   "id": "bfdb569a",
   "metadata": {},
   "outputs": [
    {
     "name": "stdout",
     "output_type": "stream",
     "text": [
      "(41, 15)\n"
     ]
    }
   ],
   "source": [
    "df[\"id\" ] = df[\"id\"].astype(str)\n",
    "\n",
    "df = df[~df[\"id\"].isin(ids)]\n",
    "\n",
    "print(df.shape)"
   ]
  },
  {
   "cell_type": "code",
   "execution_count": 16,
   "id": "76c1443c",
   "metadata": {},
   "outputs": [],
   "source": [
    "agent = Agent(system_prompt=\"You are an AI assistant\", agent_name=\"csp_agent\")\n",
    "\n",
    "for i, row in df.iterrows():\n",
    "    \n",
    "    id_ = row[\"id\"]\n",
    "    \n",
    "    user_query = row[\"question\"]\n",
    "\n",
    "    response = agent.perform_action(user_query=user_query)\n",
    "\n",
    "\n",
    "    with open(os.path.join(path, f\"gemini_pred_{id_}.txt\"), \"w\") as f:\n",
    "        f.write(response)"
   ]
  },
  {
   "cell_type": "code",
   "execution_count": 4,
   "id": "02c2b2f2",
   "metadata": {},
   "outputs": [
    {
     "name": "stdout",
     "output_type": "stream",
     "text": [
      "14\n"
     ]
    }
   ],
   "source": [
    "import os\n",
    "import re\n",
    "\n",
    "count = 0\n",
    "path = r\"./gemini_responses\"\n",
    "for file in os.listdir(path):\n",
    "    fp = os.path.join(path, file)\n",
    "\n",
    "    with open(fp, \"r\") as f:\n",
    "        lines = f.readlines()\n",
    "    \n",
    "    text = \"\\n\".join(lines)\n",
    "    if re.search(r\"final answer:\", text.lower()) is not None:\n",
    "\n",
    "        reqd_ = text.split(\"Final Answer:\")[1]\n",
    "        \n",
    "        if reqd_:\n",
    "            count += 1\n",
    "\n",
    "print(count)"
   ]
  }
 ],
 "metadata": {
  "kernelspec": {
   "display_name": "base",
   "language": "python",
   "name": "python3"
  },
  "language_info": {
   "codemirror_mode": {
    "name": "ipython",
    "version": 3
   },
   "file_extension": ".py",
   "mimetype": "text/x-python",
   "name": "python",
   "nbconvert_exporter": "python",
   "pygments_lexer": "ipython3",
   "version": "3.10.10"
  }
 },
 "nbformat": 4,
 "nbformat_minor": 5
}
